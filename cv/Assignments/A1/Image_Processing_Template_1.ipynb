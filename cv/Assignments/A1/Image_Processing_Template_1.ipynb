{
 "cells": [
  {
   "cell_type": "markdown",
   "metadata": {},
   "source": [
    "# Image Processing Assignment (A1)\n",
    "**Roll Number: 24L-XXXX**  \n",
    "**Name: [Your Name Here]**  \n",
    "This notebook contains solutions for improving a given image using custom transformations.\n"
   ]
  },
  {
   "cell_type": "code",
   "execution_count": null,
   "metadata": {},
   "outputs": [],
   "source": [
    "import numpy as np\n",
    "import matplotlib.pyplot as plt\n",
    "from matplotlib.image import imread\n",
    "\n",
    "# Load Image\n",
    "def load_image(file_path):\n",
    "    \"\"\"Loads an image and converts it to grayscale.\"\"\"\n",
    "    image = imread(file_path)\n",
    "    if image.ndim == 3:\n",
    "        image = np.mean(image, axis=-1)  # Convert to grayscale if RGB\n",
    "    return image / 255.0  # Normalize pixel values\n",
    "\n",
    "# Display Image\n",
    "def display_image(img, title=\"Image\"):\n",
    "    \"\"\"Displays a grayscale image.\"\"\"\n",
    "    plt.figure(figsize=(5,5))\n",
    "    plt.imshow(img, cmap='gray')\n",
    "    plt.title(title)\n",
    "    plt.axis('off')\n",
    "    plt.show()\n",
    "\n",
    "# Load and display original image\n",
    "image = load_image('input_image.png')  # Replace with your image file\n",
    "display_image(image, \"Original Image\")"
   ]
  },
  {
   "cell_type": "markdown",
   "metadata": {},
   "source": [
    "## Transformation 1"
   ]
  },
  {
   "cell_type": "code",
   "execution_count": null,
   "metadata": {},
   "outputs": [],
   "source": [
    "def transformation1(img, factor):\n",
    "    \"\"\"Adjusts transformation 1.\"\"\"\n",
    "    # Implement the function logic here\n",
    "    pass"
   ]
  },
  {
   "cell_type": "markdown",
   "metadata": {},
   "source": [
    "## Transformation 2"
   ]
  },
  {
   "cell_type": "code",
   "execution_count": null,
   "metadata": {},
   "outputs": [],
   "source": [
    "def transformation2(img, factor):\n",
    "    \"\"\"Adjusts transformation 2.\"\"\"\n",
    "    # Implement the function logic here\n",
    "    pass"
   ]
  },
  {
   "cell_type": "markdown",
   "metadata": {},
   "source": [
    "## Tranformation 3"
   ]
  },
  {
   "cell_type": "code",
   "execution_count": null,
   "metadata": {},
   "outputs": [],
   "source": [
    "def transformation3(img, factor):\n",
    "    \"\"\"Adjusts transformation 3.\"\"\"\n",
    "    # Implement the function logic here\n",
    "    pass"
   ]
  },
  {
   "cell_type": "markdown",
   "metadata": {},
   "source": [
    "## Final Improved Image"
   ]
  },
  {
   "cell_type": "code",
   "execution_count": null,
   "metadata": {},
   "outputs": [],
   "source": [
    "# Students should call and apply their implemented transformations here\n",
    "# Example: improved_image = adjust_brightness(image, 1.3)\n",
    "pass"
   ]
  },
  {
   "cell_type": "markdown",
   "metadata": {},
   "source": [
    "## Explanation\n",
    "### Problems in the Original Image:\n",
    "1. [Explain the issues you observed in the original image.]\n",
    "2. [Discuss aspects such as low brightness, poor contrast, noise, or blurriness.]\n",
    "\n",
    "### Applied Transformations:\n",
    "- **Brightness Adjustment**: [Explain why it was necessary and how it was applied.]\n",
    "- **Contrast Enhancement**: [Describe how contrast was improved.]\n",
    "- **Other Applied Techniques**: [Mention any other transformations you used.]\n",
    "\n",
    "### Final Outcome:\n",
    "[Describe how the final transformed image is an improvement over the original.]\n"
   ]
  }
 ],
 "metadata": {
  "language_info": {
   "name": "python"
  }
 },
 "nbformat": 4,
 "nbformat_minor": 4
}
