{
 "cells": [
  {
   "cell_type": "code",
   "execution_count": 13,
   "metadata": {},
   "outputs": [
    {
     "name": "stdout",
     "output_type": "stream",
     "text": [
      "3\n",
      "4\n"
     ]
    }
   ],
   "source": [
    "def pattern_count(text: str, pattern: str) -> int:\n",
    "    count = 0\n",
    "    for i in range(len(text)):\n",
    "        if i+len(pattern) <= len(text) and text[i:i+len(pattern)] == pattern:\n",
    "            count += 1\n",
    "    return count\n",
    "\n",
    "print (pattern_count('ACGTACGTACGT', 'CG'))\n",
    "print (pattern_count('ACGTACCGTACCCCGT', 'CC'))\n",
    "            "
   ]
  },
  {
   "cell_type": "code",
   "execution_count": 15,
   "metadata": {},
   "outputs": [
    {
     "name": "stdout",
     "output_type": "stream",
     "text": [
      "['TTTT']\n"
     ]
    }
   ],
   "source": [
    "def frequent_words(text: str, k: int) -> list[str]:\n",
    "    kmers = {}\n",
    "    \n",
    "    for i in range(len(text) - k + 1):\n",
    "        kmer = text[i:i+k]\n",
    "        kmers[kmer] = kmers.get(kmer, 0) + 1\n",
    "    \n",
    "    max_freq = max(kmers.values())\n",
    "    most_frequent_kmers = [kmer for kmer, freq in kmers.items() if freq == max_freq]\n",
    "    \n",
    "    return most_frequent_kmers\n",
    "\n",
    "print(frequent_words('CGTTTTGAACATTTTCAACAAGTTTTGCAACATTTT', 4))\n"
   ]
  },
  {
   "cell_type": "code",
   "execution_count": 16,
   "metadata": {},
   "outputs": [
    {
     "name": "stdout",
     "output_type": "stream",
     "text": [
      "[3]\n"
     ]
    }
   ],
   "source": [
    "def minimum_skew(genome: str) -> list[int]:\n",
    "    skew = [0]  \n",
    "    \n",
    "    \n",
    "    for nucleotide in genome:\n",
    "        if nucleotide == 'G':\n",
    "            skew.append(skew[-1] + 1)\n",
    "        elif nucleotide == 'C':\n",
    "            skew.append(skew[-1] - 1)\n",
    "        else:\n",
    "            skew.append(skew[-1])\n",
    "    \n",
    "    \n",
    "    min_skew = min(skew)\n",
    "    \n",
    "    return [i for i, value in enumerate(skew) if value == min_skew]\n",
    "\n",
    "\n",
    "genome = \"CCCGGGCCGG\"\n",
    "print(minimum_skew(genome))  \n"
   ]
  },
  {
   "cell_type": "code",
   "execution_count": 21,
   "metadata": {},
   "outputs": [
    {
     "name": "stdout",
     "output_type": "stream",
     "text": [
      "ATGT  GATG  ATGC\n"
     ]
    }
   ],
   "source": [
    "def hamming_distance(s1: str, s2: str) -> int:\n",
    "    \"\"\"Calculate the Hamming distance between two strings.\"\"\"\n",
    "    return sum(c1 != c2 for c1, c2 in zip(s1, s2))\n",
    "\n",
    "def neighbors(pattern: str, d: int) -> set:\n",
    "    \"\"\"Generate all k-mers within d mismatches of the given pattern.\"\"\"\n",
    "    nucleotides = \"ACGT\"\n",
    "    if d == 0:\n",
    "        return {pattern}\n",
    "    if len(pattern) == 1:\n",
    "        return set(nucleotides)\n",
    "    \n",
    "    neighborhood = set()\n",
    "    suffix_neighbors = neighbors(pattern[1:], d)\n",
    "    for text in suffix_neighbors:\n",
    "        if hamming_distance(pattern[1:], text) < d:\n",
    "            for nucleotide in nucleotides:\n",
    "                neighborhood.add(nucleotide + text)\n",
    "        else:\n",
    "            neighborhood.add(pattern[0] + text)\n",
    "    return neighborhood\n",
    "\n",
    "def frequent_words_with_mismatches(text: str, k: int, d: int) -> list[str]:\n",
    "    \"\"\"Find the most frequent k-mers with up to d mismatches in a given text.\"\"\"\n",
    "    kmer_counts = {}\n",
    "    \n",
    "    # Generate all k-mers in the text\n",
    "    for i in range(len(text) - k + 1):\n",
    "        pattern = text[i:i+k]\n",
    "        \n",
    "        # Generate all neighbors (k-mers with up to d mismatches)\n",
    "        for neighbor in neighbors(pattern, d):\n",
    "            kmer_counts[neighbor] = kmer_counts.get(neighbor, 0) + 1\n",
    "    \n",
    "    # Find the maximum frequency\n",
    "    max_freq = max(kmer_counts.values())\n",
    "    \n",
    "    # Get all k-mers with the maximum frequency\n",
    "    return [kmer for kmer, count in kmer_counts.items() if count == max_freq]\n",
    "\n",
    "# Example usage\n",
    "text = \"ACGTTGCATGTCGCATGATGCATGAGAGCT\"\n",
    "k, d = 4, 1\n",
    "print(\"  \".join(frequent_words_with_mismatches(text, k, d)))  # Output: ATGT GATG ATGC\n"
   ]
  }
 ],
 "metadata": {
  "kernelspec": {
   "display_name": "base",
   "language": "python",
   "name": "python3"
  },
  "language_info": {
   "codemirror_mode": {
    "name": "ipython",
    "version": 3
   },
   "file_extension": ".py",
   "mimetype": "text/x-python",
   "name": "python",
   "nbconvert_exporter": "python",
   "pygments_lexer": "ipython3",
   "version": "3.12.4"
  }
 },
 "nbformat": 4,
 "nbformat_minor": 2
}
