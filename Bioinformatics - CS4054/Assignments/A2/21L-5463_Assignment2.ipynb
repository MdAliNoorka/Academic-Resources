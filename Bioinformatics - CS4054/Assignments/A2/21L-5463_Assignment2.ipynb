{
 "cells": [
  {
   "cell_type": "code",
   "execution_count": 2,
   "metadata": {},
   "outputs": [
    {
     "name": "stdout",
     "output_type": "stream",
     "text": [
      "ACG\n"
     ]
    }
   ],
   "source": [
    "from itertools import product\n",
    "\n",
    "def hamming_distance(s1: str, s2: str) -> int:\n",
    "    \"\"\"Computes the Hamming distance between two strings.\"\"\"\n",
    "    return sum(1 for a, b in zip(s1, s2) if a != b)\n",
    "\n",
    "def d(pattern: str, dna: list[str]) -> int:\n",
    "    \"\"\"Computes the sum of the minimum Hamming distances between pattern and each string in dna.\"\"\"\n",
    "    k = len(pattern)\n",
    "    total_distance = 0\n",
    "    \n",
    "    for seq in dna:\n",
    "        min_distance = float('inf')\n",
    "        for i in range(len(seq) - k + 1):\n",
    "            k_mer = seq[i:i+k]\n",
    "            min_distance = min(min_distance, hamming_distance(pattern, k_mer))\n",
    "        total_distance += min_distance\n",
    "    \n",
    "    return total_distance\n",
    "\n",
    "def median_string(dna: list[str], k: int) -> str:\n",
    "    \"\"\"Finds the median string of length k that minimizes d(Pattern, Dna).\"\"\"\n",
    "    best_pattern = None\n",
    "    min_distance = float('inf')\n",
    "    \n",
    "    # Generate all possible k-mers\n",
    "    for pattern in map(\"\".join, product(\"ACGT\", repeat=k)):\n",
    "        distance = d(pattern, dna)\n",
    "        if distance < min_distance:\n",
    "            min_distance = distance\n",
    "            best_pattern = pattern\n",
    "    \n",
    "    return best_pattern\n",
    "\n",
    "# Sample input\n",
    "k = 3\n",
    "dna = [\"AAATTGACGCAT\", \"GACGACCACGTT\", \"CGTCAGCGCCTG\", \"GCTGAGCACCGG\", \"AGTACGGGACAG\"]\n",
    "\n",
    "# Finding the median string\n",
    "print(median_string(dna, k))\n"
   ]
  },
  {
   "cell_type": "code",
   "execution_count": 5,
   "metadata": {},
   "outputs": [
    {
     "name": "stdout",
     "output_type": "stream",
     "text": [
      "CAG CAG CAA CAA CAA\n"
     ]
    }
   ],
   "source": [
    "from collections import Counter\n",
    "\n",
    "def compute_profile(motifs: list[str], k: int, t: int) -> dict:\n",
    "    profile = {\"A\": [0] * k, \"C\": [0] * k, \"G\": [0] * k, \"T\": [0] * k}\n",
    "    for i in range(k):\n",
    "        column = [motif[i] for motif in motifs]\n",
    "        counts = Counter(column)\n",
    "        for nucleotide in \"ACGT\":\n",
    "            profile[nucleotide][i] = counts[nucleotide] / t\n",
    "    return profile\n",
    "\n",
    "def profile_most_probable_kmer(text: str, k: int, profile: dict) -> str:\n",
    "    max_prob = -1\n",
    "    best_kmer = text[:k]\n",
    "    for i in range(len(text) - k + 1):\n",
    "        kmer = text[i:i + k]\n",
    "        prob = 1\n",
    "        for j, nucleotide in enumerate(kmer):\n",
    "            prob *= profile[nucleotide][j]\n",
    "        if prob > max_prob:\n",
    "            max_prob = prob\n",
    "            best_kmer = kmer\n",
    "    return best_kmer\n",
    "\n",
    "def score(motifs: list[str], k: int) -> int:\n",
    "    score = 0\n",
    "    for i in range(k):\n",
    "        column = [motif[i] for motif in motifs]\n",
    "        most_common = Counter(column).most_common(1)[0][1]\n",
    "        score += len(motifs) - most_common\n",
    "    return score\n",
    "\n",
    "def greedy_motif_search(dna: list[str], k: int, t: int) -> list[str]:\n",
    "    best_motifs = [seq[:k] for seq in dna]\n",
    "    first_seq = dna[0]\n",
    "    for i in range(len(first_seq) - k + 1):\n",
    "        motifs = [first_seq[i:i + k]]\n",
    "        for j in range(1, t):\n",
    "            profile = compute_profile(motifs, k, len(motifs))\n",
    "            next_motif = profile_most_probable_kmer(dna[j], k, profile)\n",
    "            motifs.append(next_motif)\n",
    "        if score(motifs, k) < score(best_motifs, k):\n",
    "            best_motifs = motifs\n",
    "    return best_motifs\n",
    "\n",
    "# Example usage:\n",
    "k, t = 3, 5\n",
    "dna = [\"GGCGTTCAGGCA\", \"AAGAATCAGTCA\", \"CAAGGAGTTCGC\", \"CACGTCAATCAC\", \"CAATAATATTCG\"]\n",
    "print(\" \".join(greedy_motif_search(dna, k, t)))\n"
   ]
  }
 ],
 "metadata": {
  "kernelspec": {
   "display_name": "base",
   "language": "python",
   "name": "python3"
  },
  "language_info": {
   "codemirror_mode": {
    "name": "ipython",
    "version": 3
   },
   "file_extension": ".py",
   "mimetype": "text/x-python",
   "name": "python",
   "nbconvert_exporter": "python",
   "pygments_lexer": "ipython3",
   "version": "3.12.4"
  }
 },
 "nbformat": 4,
 "nbformat_minor": 2
}
